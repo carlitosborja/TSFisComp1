{
 "cells": [
  {
   "cell_type": "markdown",
   "metadata": {},
   "source": [
    "# Tarea 5"
   ]
  },
  {
   "cell_type": "markdown",
   "metadata": {},
   "source": [
    "**Envío del PR inicial:** 15 de octubre\n",
    "\n",
    "**Aceptación del PR:** 21 de octubre"
   ]
  },
  {
   "cell_type": "markdown",
   "metadata": {},
   "source": [
    "NOTA: Esta tarea debe entregarse en equipo."
   ]
  },
  {
   "cell_type": "markdown",
   "metadata": {},
   "source": [
    "## 1\n",
    "\n",
    "Llamemos $c_n$ el valor del parámetro $c$ donde ocurre la bifurcación de doblamiento de periodo para el mapeo $Q_c(x)=x^2+c$, donde la órbita de periodo $2^n$ nace. Como hemos visto en notebooks anteriores, tenemos que $c_0=1/4$ marca la aparición del atractor de periodo $2^0=1$, $c_1=-1/4$ corresponde a la aparición del atractor de periodo $2^1=2$, $c_2=-3/4$ a la aparición del atractor de periodo $2^2=4$, etc. \n",
    "\n",
    "A partir de estos valores y otros que calcularán (al menos deben encontrar $c_6$), definimos la secuencia: $\\{f_0, f_1, f_2, \\dots\\}$, donde\n",
    "\n",
    "\\begin{equation}\n",
    "f_n = \\frac{c_n-c_{n+1}}{c_{n+1}-c_{n+2}} .\n",
    "\\end{equation}\n",
    "\n",
    "La pregunta es, ¿a qué valor converge esta secuencia?, es decir, dar una estimación de $f_\\infty$.\n",
    "\n",
    "\n",
    "*Hint:* Para realizar este ejercicio deben calcular el atractor para varios valores de $c$, de tal manera que puedan aislar las órbitas de periodo $2^p$ y de ahí determinar varios valores $c_n$. Se requerir suficiente cuidado para obtener una buena aproximación de $c_n$. \n",
    "Una opción se basa en recordar/usar que las bifurcaciones de doblamiento de periodo ocurren cuando los puntos de la órbita de periodo $p$ se tornan en repulsores, es decir, $(Q_c^p)'(x)=-1$. Esta opción, entonces, involucra obtener los valores $c_n$ a partir de órbitas periódicas de periodo $2^n$ usando los polinomios $Q_c^{2^p}(x)$ y diferenciación automática."
   ]
  },
  {
   "cell_type": "code",
   "execution_count": 90,
   "metadata": {},
   "outputs": [
    {
     "data": {
      "text/plain": [
       "ciclosestables!"
      ]
     },
     "execution_count": 90,
     "metadata": {},
     "output_type": "execute_result"
    }
   ],
   "source": [
    "\"\"\"\n",
    "    ciclosestables!(xx, f, cc, nit, nout)\n",
    "\n",
    "Esta función itera el mapeo `f`, de una variable, `nit+nout` veces, \n",
    "usando como condición inicial `x0=0`; los últimos `nout` iterados \n",
    "actualizan al vector `xx` que tiene longitud `nout`. `cc` es el valor\n",
    "del parámetro del mapeo `f`. El mapeo `f` debe ser definido de \n",
    "tal manera que `f(x0, cc)` tenga sentido. La idea es que los últimos \n",
    "`nout` iterados reflejen los ciclos estables del mapeo `f`.\n",
    "\"\"\"\n",
    "function ciclosestables!(xx, f, cc, nit, nout)\n",
    "    @assert (nit > 0) && (nout > 0)\n",
    "    \n",
    "    # Primeros nit iterados\n",
    "    x0 = 0.0\n",
    "    for it = 1:nit\n",
    "        x0 = f(x0, cc)\n",
    "    end\n",
    "    \n",
    "    # Se guardan los siguientes nout iterados\n",
    "    for it = 1:nout\n",
    "        x0 = f(x0, cc)\n",
    "        @inbounds xx[it] = x0\n",
    "    end\n",
    "    \n",
    "    nothing\n",
    "end"
   ]
  },
  {
   "cell_type": "code",
   "execution_count": 2,
   "metadata": {},
   "outputs": [
    {
     "data": {
      "text/plain": [
       "Main.DualNum"
      ]
     },
     "execution_count": 2,
     "metadata": {},
     "output_type": "execute_result"
    }
   ],
   "source": [
    "include(\"DualNum.jl\")"
   ]
  },
  {
   "cell_type": "code",
   "execution_count": 3,
   "metadata": {},
   "outputs": [
    {
     "data": {
      "text/plain": [
       "diag_bifurc"
      ]
     },
     "execution_count": 3,
     "metadata": {},
     "output_type": "execute_result"
    }
   ],
   "source": [
    "\"\"\"\n",
    "    diag_bifurc(f, nit, nout, crange)\n",
    "\n",
    "Itera el mapeo `f` `nit+nout` veces y regresa una matriz\n",
    "cuya columna `i` tiene los últimos `nout` iterados del mapeo\n",
    "para el valor del parámetro del mapeo `crange[i]`.\n",
    "\n",
    "La función `f` debe ser definida de tal manera que `f(x0, c)` \n",
    "tenga sentido.\n",
    "\"\"\"\n",
    "function diag_bifurc(f, nit, nout, crange)\n",
    "#     xx = Vector{Float64}(nout)\n",
    "    ff = Array{Float64,2}(undef, nout, length(crange))\n",
    "    \n",
    "    for ic in eachindex(crange)\n",
    "        c = crange[ic]\n",
    "       ciclosestables!(view(ff, :, ic), f, c, nit, nout)\n",
    "#         ff[:,ic] = xx\n",
    "    end\n",
    "    \n",
    "    return ff\n",
    "end"
   ]
  },
  {
   "cell_type": "code",
   "execution_count": 4,
   "metadata": {},
   "outputs": [
    {
     "data": {
      "text/plain": [
       "Newton (generic function with 1 method)"
      ]
     },
     "execution_count": 4,
     "metadata": {},
     "output_type": "execute_result"
    }
   ],
   "source": [
    "function Newton(f,Xo,iteraciones)\n",
    "    for i in 1:iteraciones\n",
    "        Xo = Xo - f(DualNum.dual(Xo)).x/f(DualNum.dual(Xo)).x´\n",
    "    end\n",
    "    return Xo\n",
    "end"
   ]
  },
  {
   "cell_type": "code",
   "execution_count": 5,
   "metadata": {},
   "outputs": [
    {
     "data": {
      "text/plain": [
       "Qc (generic function with 1 method)"
      ]
     },
     "execution_count": 5,
     "metadata": {},
     "output_type": "execute_result"
    }
   ],
   "source": [
    "Qc(x,c) = x^2 + c"
   ]
  },
  {
   "cell_type": "code",
   "execution_count": 6,
   "metadata": {},
   "outputs": [
    {
     "data": {
      "text/plain": [
       "C"
      ]
     },
     "execution_count": 6,
     "metadata": {},
     "output_type": "execute_result"
    }
   ],
   "source": [
    "\"\"\"\n",
    "    C(f,c,p)\n",
    "\n",
    "Dada la función `f(x,c)`, encuentra el valor del parámetro en el\n",
    "rango `c` donde el punto fijo atractor se vuelve repulsor, \n",
    "es decir, donde hay una bifurcación de periodo `p` a periodo `p+2`. \n",
    "\"\"\"\n",
    "function C(f,c,p)\n",
    "    \n",
    "    A = diag_bifurc(f, 2000000, p, c)\n",
    "    dc = 0\n",
    "    r = 1\n",
    "    g = DualNum.dual(A[1,r])\n",
    "    \n",
    "    while g.x´ > -1\n",
    "        r = r+1\n",
    "        g = DualNum.dual(A[1,r])      \n",
    "        for j in 1:p\n",
    "            g = f(g, c[r])\n",
    "        end \n",
    "        #println(g.x´,c[r])\n",
    "        if g.x´ < -1.0\n",
    "            dc = c[r]\n",
    "            break\n",
    "        end\n",
    "    end\n",
    "    return dc\n",
    "end"
   ]
  },
  {
   "cell_type": "code",
   "execution_count": 17,
   "metadata": {},
   "outputs": [
    {
     "data": {
      "text/plain": [
       "8-element Array{Any,1}:\n",
       "  0.25              \n",
       " -0.7499994506835937\n",
       " -1.2499983215332031\n",
       " -1.3681013488769531\n",
       " -1.394049041748047 \n",
       " -1.3996348571777344\n",
       " -1.4008316040039062\n",
       " -1.4010877380371094"
      ]
     },
     "execution_count": 17,
     "metadata": {},
     "output_type": "execute_result"
    }
   ],
   "source": [
    "# sea el vector C_n\n",
    "Cn = []\n",
    "push!(Cn,0.25)\n",
    "push!(Cn,C(Qc,-0.749:-1/2^18:-0.751,1))\n",
    "push!(Cn,C(Qc,-1.24:-1/2^18:-1.26, 2))\n",
    "push!(Cn,C(Qc,-1.365:-1/2^18:-1.370,4))\n",
    "push!(Cn,C(Qc,-1.393:-1/2^18:-1.395,8))\n",
    "push!(Cn,C(Qc,-1.395:-1/2^18:-1.4,16)) \n",
    "push!(Cn,C(Qc,-1.4:-1/2^18:-1.401,32))             #-1.4008287\n",
    "push!(Cn,C(Qc,-1.401:-1/2^18:-1.42,64))            #1M"
   ]
  },
  {
   "cell_type": "code",
   "execution_count": 7,
   "metadata": {},
   "outputs": [
    {
     "data": {
      "text/plain": [
       "fn (generic function with 1 method)"
      ]
     },
     "execution_count": 7,
     "metadata": {},
     "output_type": "execute_result"
    }
   ],
   "source": [
    "fn(cn,cn1,cn2) = (cn-cn1)/(cn1-cn2) "
   ]
  },
  {
   "cell_type": "code",
   "execution_count": 19,
   "metadata": {},
   "outputs": [],
   "source": [
    "Fn = []\n",
    "\n",
    "for i in 1:6\n",
    "    push!(Fn,fn(Cn[i],Cn[i+1],Cn[i+2]))\n",
    "end"
   ]
  },
  {
   "cell_type": "code",
   "execution_count": 22,
   "metadata": {},
   "outputs": [
    {
     "data": {
      "text/plain": [
       "6-element Array{Any,1}:\n",
       " 2.000003417976469\n",
       " 4.233582170542635\n",
       " 4.551581056954741\n",
       " 4.645282895168167\n",
       " 4.667499681244839\n",
       " 4.672346002618775"
      ]
     },
     "execution_count": 22,
     "metadata": {},
     "output_type": "execute_result"
    }
   ],
   "source": [
    "Fn"
   ]
  },
  {
   "cell_type": "markdown",
   "metadata": {},
   "source": [
    "La sucesión $f_n$ para la función cuadrática converge a un valor cercano a $4.672346...$"
   ]
  },
  {
   "cell_type": "markdown",
   "metadata": {},
   "source": [
    "## 2\n",
    "\n",
    "Repitan el ejercicio anterior para el mapeo $S_c(x) = c \\sin(x)$. \n",
    "\n",
    "- ¿Cómo se comparan los valores obtenidos de $f_n$? \n",
    "\n",
    "- ¿Qué interpretación le pueden dar a este resultado, en comparación del ejercicio anterior?"
   ]
  },
  {
   "cell_type": "code",
   "execution_count": 80,
   "metadata": {},
   "outputs": [
    {
     "data": {
      "text/plain": [
       "Cs"
      ]
     },
     "execution_count": 80,
     "metadata": {},
     "output_type": "execute_result"
    }
   ],
   "source": [
    "\"\"\"\n",
    "    Cs(f,c,p)\n",
    "\n",
    "Dada la función `f(x,c)`, encuentra el valor del parámetro en el\n",
    "rango `c` donde el punto fijo atractor se vuelve repulsor, \n",
    "es decir, donde hay una bifurcación de periodo `p` a periodo `p+2`. \n",
    "\"\"\"\n",
    "function Cs(f,c,p)\n",
    "    \n",
    "    A = diag_bifurc(f, 2000005, p, c)       #Se requirió de un número impar de iterados, debido a que con los pares\n",
    "    dc = 0                                  #coincide que al cambiar de periodo, el punto final pertenece a una órbita del nuevo\n",
    "    r = 1                                   #periodo, pero que no cumple con la condición de que a derivada es < -1 por la forma de \n",
    "    g = DualNum.dual(A[1,r])                #las órbitas y la función sin(x)\n",
    "    \n",
    "    while g.x´ > -1\n",
    "        r = r+1\n",
    "        g = DualNum.dual(A[1,r])      \n",
    "        for j in 1:p\n",
    "            g = f(g, c[r])\n",
    "        end \n",
    "        #println(g, -c[r])\n",
    "        if g.x´ < -1 \n",
    "            dc = c[r]\n",
    "            break\n",
    "        end\n",
    "    end\n",
    "    return dc\n",
    "end"
   ]
  },
  {
   "cell_type": "code",
   "execution_count": 87,
   "metadata": {
    "scrolled": true
   },
   "outputs": [
    {
     "data": {
      "text/plain": [
       "8-element Array{Any,1}:\n",
       " 1.0               \n",
       " 2.261827239990234 \n",
       " 2.6177847290039065\n",
       " 2.6974032592773436\n",
       " 2.714830505371094 \n",
       " 2.718293731689453 \n",
       " 2.7190839233398436\n",
       " 2.71926103515625  "
      ]
     },
     "execution_count": 87,
     "metadata": {},
     "output_type": "execute_result"
    }
   ],
   "source": [
    "Sc(x,c) = c*sin(x)\n",
    "Cns = []\n",
    "push!(Cns,1.0)\n",
    "push!(Cns,Cs(Sc, 2.26:1/2^18:2.265, 1))\n",
    "push!(Cns,Cs(Sc, 2.615:1/2^18:2.620, 2))\n",
    "push!(Cns,Cs(Sc, 2.695:1/2^18:2.7,4))\n",
    "push!(Cns,Cs(Sc, 2.712:1/2^18:2.715,8))\n",
    "push!(Cns,Cs(Sc, 2.718:1/2^18:2.719,16))\n",
    "push!(Cns,Cs(Sc, 2.719:1/2^18:2.7192,32))\n",
    "push!(Cns,Cs(Sc, 2.7192:1/2^18:2.7193,64))"
   ]
  },
  {
   "cell_type": "code",
   "execution_count": 88,
   "metadata": {},
   "outputs": [],
   "source": [
    "Fsn = []\n",
    "for i in 1:6\n",
    "    push!(Fsn, fn(Cns[i],Cns[i+1],Cns[i+2]))\n",
    "end"
   ]
  },
  {
   "cell_type": "code",
   "execution_count": 89,
   "metadata": {},
   "outputs": [
    {
     "data": {
      "text/plain": [
       "6-element Array{Any,1}:\n",
       " 3.544881843859078 \n",
       " 4.470786986285645 \n",
       " 4.568623742680114 \n",
       " 5.032084100702723 \n",
       " 4.382767543351822 \n",
       " 4.4615411124129185"
      ]
     },
     "execution_count": 89,
     "metadata": {},
     "output_type": "execute_result"
    }
   ],
   "source": [
    "Fsn"
   ]
  },
  {
   "cell_type": "markdown",
   "metadata": {},
   "source": [
    "Se observa que la sucesión $f_n$ para la función $c\\sin(x)$, también converge al mismo valor que la función cuadrática $x^2+c$.\n",
    "\n",
    "Al existir una región de $c$ para ambas funciónes en las que el número de periodos llega a $2^{\\infty}$ a demás de que el rango en el que cae la órbita es acotado, se habla de caos en tales funciones.\n",
    "\n",
    "Pero se observa que el \"camino\" al caos se da, para almenos las funciones $c\\sin(x)$ y $x^2+c$, de una manera \"ordenada\", en el sentido de lo que nos muestra la sucesión $f_n$, que es, las distancias entre las $c$ donde se bifurca cada rama de periodo $2^p$ obedecen una proporción de $\\approx 4.672346...$"
   ]
  },
  {
   "cell_type": "markdown",
   "metadata": {},
   "source": [
    "## 3\n",
    "\n",
    "Como se ve en la Fig. 1 del diagrama de bifurcaciones de $Q_c$, $x=0$ pertenece a un ciclo de periodo $2^n$ para ciertos valores $C_n$ del parámetro. Dichos valores son *especiales*, ya que el hecho de que $x=0$ pertenezca a un ciclo de periodo $2^n$ define los llamados *ciclos superestable*, donde tenemos $(Q^{2^p}_{C_n})'(0)=0$.\n",
    "\n",
    "- ¿A qué converge la secuencia $f_n$, definida ahora a partir de los valores $C_n$.\n",
    "\n",
    "- De los $2^p$ puntos del ciclo de periodo $2^p$, es decir, $\\{0, p_1, \\dots p_{2^{n-1}}\\,\\}$ hay uno (distinto del 0) cuya distancia a 0 es la menor; a esa distancia la identificaremos como $d_n$. Calcular numéricamente a qué converge la secuencia $d_n/d_{n+1}$."
   ]
  },
  {
   "cell_type": "code",
   "execution_count": 92,
   "metadata": {},
   "outputs": [
    {
     "data": {
      "text/plain": [
       "Cz (generic function with 1 method)"
      ]
     },
     "execution_count": 92,
     "metadata": {},
     "output_type": "execute_result"
    }
   ],
   "source": [
    "function Cz(f,c,p)\n",
    "    \n",
    "    A = diag_bifurc(f, 100000, p, c)\n",
    "    dc = 0\n",
    "    r = 1\n",
    "    g = DualNum.dual(A[1,r])\n",
    "    \n",
    "    while g.x´ > 0.0\n",
    "        r = r+1\n",
    "        g = DualNum.dual(A[1,r])      \n",
    "        for j in 1:p\n",
    "            g = f(g, c[r])\n",
    "        end \n",
    "        #println(g.x´,\"  \",c[r])\n",
    "        if g.x´ < 0.0\n",
    "            dc = c[r]\n",
    "            break\n",
    "        end\n",
    "    end\n",
    "    return dc\n",
    "    \n",
    "    while g.x´ < 0.0\n",
    "        r = r+1\n",
    "        g = DualNum.dual(A[1,r])      \n",
    "        for j in 1:p\n",
    "            g = f(g, c[r])\n",
    "        end \n",
    "        #println(g.x´,\"  \",c[r])\n",
    "        if g.x´ > 0.0\n",
    "            dc = c[r]\n",
    "            break\n",
    "        end\n",
    "    end\n",
    "    return dc\n",
    "end"
   ]
  },
  {
   "cell_type": "code",
   "execution_count": 93,
   "metadata": {},
   "outputs": [
    {
     "data": {
      "text/plain": [
       "9-element Array{Any,1}:\n",
       "  0.0       \n",
       " -1.0       \n",
       " -1.310703  \n",
       " -1.381548  \n",
       " -1.396946  \n",
       " -1.400254  \n",
       " -1.40096197\n",
       " -1.40111381\n",
       " -1.40114633"
      ]
     },
     "execution_count": 93,
     "metadata": {},
     "output_type": "execute_result"
    }
   ],
   "source": [
    "Czn = []\n",
    "\n",
    "push!(Czn, 0.0)\n",
    "push!(Czn, -1.0)\n",
    "push!(Czn, Cz(Qc, -1.30:-1/10^6:-1.32, 4))\n",
    "push!(Czn, Cz(Qc, -1.38:-1/10^6:-1.385, 8))\n",
    "push!(Czn, Cz(Qc, -1.396:-1/10^6:-1.398, 16))\n",
    "push!(Czn, Cz(Qc, -1.40015:-1/10^6:-1.40035, 32))\n",
    "push!(Czn, Cz(Qc, -1.4009:-1/10^8:-1.4010, 64))\n",
    "push!(Czn, Cz(Qc, -1.4010:-1/10^8:-1.40125, 128))\n",
    "push!(Czn, Cz(Qc, -1.40114:-1/10^8:-1.40115, 256))"
   ]
  },
  {
   "cell_type": "code",
   "execution_count": 94,
   "metadata": {},
   "outputs": [],
   "source": [
    "Fzn = []\n",
    "\n",
    "for i in 1:7\n",
    "    push!(Fzn,fn(Czn[i],Czn[i+1],Czn[i+2]))\n",
    "end"
   ]
  },
  {
   "cell_type": "code",
   "execution_count": 95,
   "metadata": {},
   "outputs": [
    {
     "data": {
      "text/plain": [
       "7-element Array{Any,1}:\n",
       " 3.218507706716704 \n",
       " 4.385672947985034 \n",
       " 4.600922197688008 \n",
       " 4.6547762998789635\n",
       " 4.672514372078756 \n",
       " 4.662605374076825 \n",
       " 4.669126691270171 "
      ]
     },
     "execution_count": 95,
     "metadata": {},
     "output_type": "execute_result"
    }
   ],
   "source": [
    "Fzn"
   ]
  },
  {
   "cell_type": "code",
   "execution_count": 96,
   "metadata": {},
   "outputs": [],
   "source": [
    "D = []\n",
    "for i in 1:9\n",
    "\n",
    "    A = diag_bifurc(Qc, 1000000, 2^(i-1), Czn[i])          #Se usarán los valores de c determinados en el inciso anterior.\n",
    "    \n",
    "    absA = []                    #Se tomarán los valores absolutos del vector A, para poder nombrar al más cercano a cero\n",
    "                                 #como el mínimo de éste vector absA\n",
    "    for l in 1:length(A)\n",
    "        push!( absA , abs(A[l]))\n",
    "    end\n",
    "    \n",
    "    min = minimum(absA)\n",
    "    s = 0\n",
    "    \n",
    "    for r in 1:length(absA)      #Se guarda el ínidce tal que el la entrada de A es la más cercana a cero.\n",
    "        if absA[r] == min\n",
    "            s = r\n",
    "        end\n",
    "    end\n",
    "\n",
    "\n",
    "    D1 = []\n",
    "    \n",
    "    if i == 1\n",
    "        push!(D1,0.0)\n",
    "    end\n",
    "    \n",
    "    for m in 1:length(A)        #Se realiza la resta de los demás puntos fijos de A, con el más cercano a cero y se guardan en D1\n",
    "        if m != s\n",
    "            push!(D1, abs(min-A[m]))\n",
    "        end\n",
    "    end\n",
    "    \n",
    "    push!(D, minimum(D1))       #Por último en el vector D, se guarda el menor de las restas anteriores.\n",
    "    \n",
    "end"
   ]
  },
  {
   "cell_type": "code",
   "execution_count": 97,
   "metadata": {},
   "outputs": [
    {
     "data": {
      "text/plain": [
       "9-element Array{Any,1}:\n",
       " 0.0                  \n",
       " 1.0                  \n",
       " 0.4072387322583946   \n",
       " 0.16342849226476241  \n",
       " 0.06536302595334376  \n",
       " 0.026140533748405748 \n",
       " 0.010436909263090488 \n",
       " 0.004170337459091122 \n",
       " 0.0016660259442164982"
      ]
     },
     "execution_count": 97,
     "metadata": {},
     "output_type": "execute_result"
    }
   ],
   "source": [
    "D"
   ]
  },
  {
   "cell_type": "code",
   "execution_count": 98,
   "metadata": {},
   "outputs": [
    {
     "data": {
      "text/plain": [
       "8-element Array{Any,1}:\n",
       " 0.0               \n",
       " 2.4555621083838757\n",
       " 2.4918465967283554\n",
       " 2.500320171551084 \n",
       " 2.500447258745438 \n",
       " 2.504624030875711 \n",
       " 2.5026534100588336\n",
       " 2.5031647757756597"
      ]
     },
     "execution_count": 98,
     "metadata": {},
     "output_type": "execute_result"
    }
   ],
   "source": [
    "dn = []\n",
    "for i in 1:8\n",
    "    push!(dn, D[i]/D[i+1])\n",
    "end\n",
    "dn"
   ]
  },
  {
   "cell_type": "markdown",
   "metadata": {},
   "source": [
    "Nuevamente, se observa la misma proporción $4.672346...$ entre las $C's$ tales que la órbita es super estable. \n",
    "\n",
    "Y se tiene una nueva constante $d \\approx 2.503...$ que representa también una proporción entre los puntos mas cercanos a $x=0$ en dos órbita superestables consecutivas. Éste número representa una proporción en el ancho de las bifurcaciones."
   ]
  }
 ],
 "metadata": {
  "kernelspec": {
   "display_name": "Julia 1.0.0",
   "language": "julia",
   "name": "julia-1.0"
  },
  "language_info": {
   "file_extension": ".jl",
   "mimetype": "application/julia",
   "name": "julia",
   "version": "1.0.0"
  }
 },
 "nbformat": 4,
 "nbformat_minor": 1
}
